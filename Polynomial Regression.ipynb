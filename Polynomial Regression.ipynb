{
 "cells": [
  {
   "cell_type": "code",
   "execution_count": 20,
   "id": "2cc06f37",
   "metadata": {},
   "outputs": [],
   "source": [
    "import pandas as pd\n",
    "import numpy as np\n",
    "import matplotlib.pyplot as plt\n",
    "import seaborn as sns\n",
    "import pandas as pd\n",
    "import matplotlib.pyplot as plt\n",
    "from sklearn.linear_model import LinearRegression\n",
    "from sklearn.preprocessing import PolynomialFeatures\n",
    "from sklearn.metrics import mean_squared_error\n",
    "\n",
    "%matplotlib inline\n",
    "import warnings\n",
    "warnings.filterwarnings('ignore')"
   ]
  },
  {
   "cell_type": "code",
   "execution_count": 21,
   "id": "2cbc917e",
   "metadata": {},
   "outputs": [],
   "source": [
    "data = pd.read_csv(r\"C:\\Users\\muralidharan.m\\Downloads\\data.csv\")"
   ]
  },
  {
   "cell_type": "code",
   "execution_count": 22,
   "id": "a7fb69e0",
   "metadata": {},
   "outputs": [
    {
     "data": {
      "text/html": [
       "<div>\n",
       "<style scoped>\n",
       "    .dataframe tbody tr th:only-of-type {\n",
       "        vertical-align: middle;\n",
       "    }\n",
       "\n",
       "    .dataframe tbody tr th {\n",
       "        vertical-align: top;\n",
       "    }\n",
       "\n",
       "    .dataframe thead th {\n",
       "        text-align: right;\n",
       "    }\n",
       "</style>\n",
       "<table border=\"1\" class=\"dataframe\">\n",
       "  <thead>\n",
       "    <tr style=\"text-align: right;\">\n",
       "      <th></th>\n",
       "      <th>x</th>\n",
       "      <th>y</th>\n",
       "      <th>z</th>\n",
       "    </tr>\n",
       "  </thead>\n",
       "  <tbody>\n",
       "    <tr>\n",
       "      <th>0</th>\n",
       "      <td>2</td>\n",
       "      <td>2</td>\n",
       "      <td>train</td>\n",
       "    </tr>\n",
       "    <tr>\n",
       "      <th>1</th>\n",
       "      <td>3</td>\n",
       "      <td>2</td>\n",
       "      <td>train</td>\n",
       "    </tr>\n",
       "    <tr>\n",
       "      <th>2</th>\n",
       "      <td>4</td>\n",
       "      <td>5</td>\n",
       "      <td>test</td>\n",
       "    </tr>\n",
       "    <tr>\n",
       "      <th>3</th>\n",
       "      <td>5</td>\n",
       "      <td>6</td>\n",
       "      <td>test</td>\n",
       "    </tr>\n",
       "    <tr>\n",
       "      <th>4</th>\n",
       "      <td>6</td>\n",
       "      <td>8</td>\n",
       "      <td>train</td>\n",
       "    </tr>\n",
       "    <tr>\n",
       "      <th>5</th>\n",
       "      <td>7</td>\n",
       "      <td>9</td>\n",
       "      <td>train</td>\n",
       "    </tr>\n",
       "    <tr>\n",
       "      <th>6</th>\n",
       "      <td>8</td>\n",
       "      <td>10</td>\n",
       "      <td>test</td>\n",
       "    </tr>\n",
       "    <tr>\n",
       "      <th>7</th>\n",
       "      <td>10</td>\n",
       "      <td>15</td>\n",
       "      <td>train</td>\n",
       "    </tr>\n",
       "  </tbody>\n",
       "</table>\n",
       "</div>"
      ],
      "text/plain": [
       "    x   y      z\n",
       "0   2   2  train\n",
       "1   3   2  train\n",
       "2   4   5   test\n",
       "3   5   6   test\n",
       "4   6   8  train\n",
       "5   7   9  train\n",
       "6   8  10   test\n",
       "7  10  15  train"
      ]
     },
     "execution_count": 22,
     "metadata": {},
     "output_type": "execute_result"
    }
   ],
   "source": [
    "data"
   ]
  },
  {
   "cell_type": "code",
   "execution_count": 23,
   "id": "f49d6dec",
   "metadata": {},
   "outputs": [],
   "source": [
    "train_X = data[data['z']=='train'][['x']]\n",
    "train_y = data[data['z']=='train']['y']\n",
    "\n",
    "test_X = data[data['z']=='test'][['x']]\n",
    "test_y = data[data['z']=='test']['y']"
   ]
  },
  {
   "cell_type": "code",
   "execution_count": 24,
   "id": "76bdfede",
   "metadata": {},
   "outputs": [
    {
     "data": {
      "text/plain": [
       "<matplotlib.collections.PathCollection at 0xcb9d7f0>"
      ]
     },
     "execution_count": 24,
     "metadata": {},
     "output_type": "execute_result"
    },
    {
     "data": {
      "image/png": "[encoded data removed]",
      "text/plain": [
       "<Figure size 432x288 with 1 Axes>"
      ]
     },
     "metadata": {
      "needs_background": "light"
     },
     "output_type": "display_data"
    }
   ],
   "source": [
    "plt.scatter(x = train_X, y = train_y, color=\"b\" )\n",
    "plt.scatter(x = test_X, y = test_y, color=\"r\" )\n"
   ]
  },
  {
   "cell_type": "code",
   "execution_count": 25,
   "id": "97ed72f9",
   "metadata": {},
   "outputs": [
    {
     "data": {
      "text/plain": [
       "LinearRegression()"
      ]
     },
     "execution_count": 25,
     "metadata": {},
     "output_type": "execute_result"
    }
   ],
   "source": [
    "model = LinearRegression()\n",
    "model.fit(train_X,train_y)"
   ]
  },
  {
   "cell_type": "code",
   "execution_count": 26,
   "id": "6ad10c33",
   "metadata": {},
   "outputs": [
    {
     "data": {
      "text/plain": [
       "[<matplotlib.lines.Line2D at 0xcbdfd30>]"
      ]
     },
     "execution_count": 26,
     "metadata": {},
     "output_type": "execute_result"
    },
    {
     "data": {
      "image/png": "[encoded data removed]",
      "text/plain": [
       "<Figure size 432x288 with 1 Axes>"
      ]
     },
     "metadata": {
      "needs_background": "light"
     },
     "output_type": "display_data"
    }
   ],
   "source": [
    "plt.scatter(x = train_X, y = train_y, color=\"b\" )\n",
    "plt.scatter(x = test_X, y = test_y, color=\"r\" )\n",
    "plt.plot(train_X, model.predict(train_X))"
   ]
  },
  {
   "cell_type": "code",
   "execution_count": 27,
   "id": "ed0e1dd6",
   "metadata": {},
   "outputs": [
    {
     "name": "stdout",
     "output_type": "stream",
     "text": [
      "Train MSE :  0.3796116504854373\n"
     ]
    }
   ],
   "source": [
    "print(\"Train MSE : \",mean_squared_error(train_y, model.predict(train_X)))"
   ]
  },
  {
   "cell_type": "code",
   "execution_count": 28,
   "id": "3e4d8ea0",
   "metadata": {},
   "outputs": [
    {
     "name": "stdout",
     "output_type": "stream",
     "text": [
      "Test MSE :  0.6084535143117468\n"
     ]
    }
   ],
   "source": [
    "print(\"Test MSE : \", mean_squared_error(test_y, model.predict(test_X)))"
   ]
  },
  {
   "cell_type": "code",
   "execution_count": 29,
   "id": "4c9b1994",
   "metadata": {},
   "outputs": [],
   "source": [
    "poly = PolynomialFeatures(degree = 10)"
   ]
  },
  {
   "cell_type": "code",
   "execution_count": 30,
   "id": "f4735d33",
   "metadata": {},
   "outputs": [],
   "source": [
    "X_poly = poly.fit_transform(train_X)"
   ]
  },
  {
   "cell_type": "code",
   "execution_count": 31,
   "id": "daff8cc2",
   "metadata": {},
   "outputs": [
    {
     "data": {
      "text/plain": [
       "LinearRegression()"
      ]
     },
     "execution_count": 31,
     "metadata": {},
     "output_type": "execute_result"
    }
   ],
   "source": [
    "lin2 = LinearRegression()\n",
    "lin2.fit(X_poly,train_y)"
   ]
  },
  {
   "cell_type": "code",
   "execution_count": 32,
   "id": "bfd3007c",
   "metadata": {},
   "outputs": [
    {
     "data": {
      "text/plain": [
       "[<matplotlib.lines.Line2D at 0xcc22f10>]"
      ]
     },
     "execution_count": 32,
     "metadata": {},
     "output_type": "execute_result"
    },
    {
     "data": {
      "image/png": "[encoded data removed]",
      "text/plain": [
       "<Figure size 432x288 with 1 Axes>"
      ]
     },
     "metadata": {
      "needs_background": "light"
     },
     "output_type": "display_data"
    }
   ],
   "source": [
    "plt.scatter(x = train_X, y = train_y, color=\"b\" )\n",
    "plt.scatter(x = test_X, y = test_y, color=\"r\" )\n",
    "plt.plot(train_X, lin2.predict(poly.fit_transform(train_X)))"
   ]
  },
  {
   "cell_type": "code",
   "execution_count": 33,
   "id": "7940d839",
   "metadata": {},
   "outputs": [
    {
     "name": "stdout",
     "output_type": "stream",
     "text": [
      "Train MSE :  8.584056934174816e-23\n"
     ]
    }
   ],
   "source": [
    "print(\"Train MSE : \",mean_squared_error(train_y, lin2.predict(poly.fit_transform(train_X))))"
   ]
  },
  {
   "cell_type": "code",
   "execution_count": 34,
   "id": "7367ba6b",
   "metadata": {},
   "outputs": [
    {
     "name": "stdout",
     "output_type": "stream",
     "text": [
      "Test MSE :  78.2920665539027\n"
     ]
    }
   ],
   "source": [
    "print(\"Test MSE : \",mean_squared_error(test_y, lin2.predict(poly.fit_transform(test_X))))"
   ]
  },
  {
   "cell_type": "code",
   "execution_count": 35,
   "id": "8f14b601",
   "metadata": {},
   "outputs": [],
   "source": [
    "def poly_fit(train_X, train_y, test_X, test_y, degree):\n",
    "    poly = PolynomialFeatures(degree = degree)\n",
    "    X_poly = poly.fit_transform(train_X)\n",
    "    lin2 = LinearRegression()\n",
    "    lin2.fit(X_poly,train_y)\n",
    "    plt.scatter(x = train_X, y = train_y, color=\"b\" )\n",
    "    plt.scatter(x = test_X, y = test_y, color=\"r\" )\n",
    "    plt.plot(train_X, lin2.predict(poly.fit_transform(train_X)))\n",
    "    print(\"Train MSE : \",mean_squared_error(train_y, lin2.predict(poly.fit_transform(train_X))))\n",
    "    print(\"Test MSE : \",mean_squared_error(test_y, lin2.predict(poly.fit_transform(test_X))))\n",
    "    train_mse = mean_squared_error(train_y, lin2.predict(poly.fit_transform(train_X)))\n",
    "    test_mse = mean_squared_error(test_y, lin2.predict(poly.fit_transform(test_X)))\n",
    "    return train_mse,test_mse"
   ]
  },
  {
   "cell_type": "code",
   "execution_count": 36,
   "id": "427c7aa1",
   "metadata": {},
   "outputs": [
    {
     "name": "stdout",
     "output_type": "stream",
     "text": [
      "Train MSE :  0.2572263721987658\n",
      "Test MSE :  0.558304398590712\n"
     ]
    },
    {
     "data": {
      "image/png": "[encoded data removed]",
      "text/plain": [
       "<Figure size 432x288 with 1 Axes>"
      ]
     },
     "metadata": {
      "needs_background": "light"
     },
     "output_type": "display_data"
    }
   ],
   "source": [
    "train_mse, test_mse = poly_fit(train_X, train_y, test_X, test_y, 2)"
   ]
  },
  {
   "cell_type": "code",
   "execution_count": 37,
   "id": "7a3112ba",
   "metadata": {},
   "outputs": [
    {
     "name": "stdout",
     "output_type": "stream",
     "text": [
      "Train MSE :  0.17123341912492568\n",
      "Test MSE :  1.6825454164787839\n"
     ]
    },
    {
     "data": {
      "image/png": "[encoded data removed]",
      "text/plain": [
       "<Figure size 432x288 with 1 Axes>"
      ]
     },
     "metadata": {
      "needs_background": "light"
     },
     "output_type": "display_data"
    }
   ],
   "source": [
    "train_mse, test_mse = poly_fit(train_X, train_y, test_X, test_y, 3)"
   ]
  },
  {
   "cell_type": "code",
   "execution_count": 38,
   "id": "c5a2943d",
   "metadata": {},
   "outputs": [
    {
     "name": "stdout",
     "output_type": "stream",
     "text": [
      "degree :  0\n",
      "Train MSE :  23.76\n",
      "Test MSE :  4.706666666666667\n",
      "degree :  1\n",
      "Train MSE :  0.37961165048543655\n",
      "Test MSE :  0.6084535143117503\n",
      "degree :  2\n",
      "Train MSE :  0.2572263721987658\n",
      "Test MSE :  0.558304398590712\n",
      "degree :  3\n",
      "Train MSE :  0.17123341912492568\n",
      "Test MSE :  1.6825454164787839\n",
      "degree :  4\n",
      "Train MSE :  6.975200515353406e-23\n",
      "Test MSE :  0.4364413265334224\n",
      "degree :  5\n",
      "Train MSE :  6.630760872504352e-25\n",
      "Test MSE :  0.9490286489916567\n",
      "degree :  6\n",
      "Train MSE :  9.132090497109998e-27\n",
      "Test MSE :  2.2221454936997227\n",
      "degree :  7\n",
      "Train MSE :  1.5913582572649003e-26\n",
      "Test MSE :  5.434607995953642\n",
      "degree :  8\n",
      "Train MSE :  3.5112159448341974e-25\n",
      "Test MSE :  13.475145705047574\n",
      "degree :  9\n",
      "Train MSE :  6.946294584970536e-25\n",
      "Test MSE :  32.96649797410157\n"
     ]
    },
    {
     "data": {
      "image/png": "[encoded data removed]",
      "text/plain": [
       "<Figure size 432x288 with 1 Axes>"
      ]
     },
     "metadata": {
      "needs_background": "light"
     },
     "output_type": "display_data"
    }
   ],
   "source": [
    "train_mse_list = []\n",
    "test_mse_list = []\n",
    "for i in range(0,10):\n",
    "    print(\"degree : \",i)\n",
    "    train_mse, test_mse = poly_fit(train_X, train_y, test_X, test_y, i)\n",
    "    train_mse_list.append(train_mse)\n",
    "    test_mse_list.append(test_mse)\n",
    "    "
   ]
  },
  {
   "cell_type": "code",
   "execution_count": 39,
   "id": "086902ca",
   "metadata": {},
   "outputs": [],
   "source": [
    "degree = list(range(0,10))"
   ]
  },
  {
   "cell_type": "code",
   "execution_count": null,
   "id": "4f33d6e2",
   "metadata": {},
   "outputs": [],
   "source": []
  },
  {
   "cell_type": "code",
   "execution_count": null,
   "id": "a76f133c",
   "metadata": {},
   "outputs": [],
   "source": []
  },
  {
   "cell_type": "code",
   "execution_count": null,
   "id": "98a19bba",
   "metadata": {},
   "outputs": [],
   "source": []
  },
  {
   "cell_type": "code",
   "execution_count": null,
   "id": "af8413e7",
   "metadata": {},
   "outputs": [],
   "source": []
  },
  {
   "cell_type": "code",
   "execution_count": null,
   "id": "bd6b0f89",
   "metadata": {},
   "outputs": [],
   "source": []
  },
  {
   "cell_type": "code",
   "execution_count": null,
   "id": "1517d3ff",
   "metadata": {},
   "outputs": [],
   "source": []
  },
  {
   "cell_type": "code",
   "execution_count": null,
   "id": "79c1b91b",
   "metadata": {},
   "outputs": [],
   "source": []
  },
  {
   "cell_type": "code",
   "execution_count": null,
   "id": "4edb286b",
   "metadata": {},
   "outputs": [],
   "source": []
  },
  {
   "cell_type": "code",
   "execution_count": null,
   "id": "9c6062ae",
   "metadata": {},
   "outputs": [],
   "source": []
  },
  {
   "cell_type": "code",
   "execution_count": null,
   "id": "622c4b16",
   "metadata": {},
   "outputs": [],
   "source": []
  },
  {
   "cell_type": "code",
   "execution_count": null,
   "id": "a18b609a",
   "metadata": {},
   "outputs": [],
   "source": []
  },
  {
   "cell_type": "code",
   "execution_count": null,
   "id": "7a9ddfff",
   "metadata": {},
   "outputs": [],
   "source": []
  },
  {
   "cell_type": "code",
   "execution_count": null,
   "id": "83afae63",
   "metadata": {},
   "outputs": [],
   "source": []
  }
 ],
 "metadata": {
  "kernelspec": {
   "display_name": "Python 3",
   "language": "python",
   "name": "python3"
  },
  "language_info": {
   "codemirror_mode": {
    "name": "ipython",
    "version": 3
   },
   "file_extension": ".py",
   "mimetype": "text/x-python",
   "name": "python",
   "nbconvert_exporter": "python",
   "pygments_lexer": "ipython3",
   "version": "3.8.8"
  }
 },
 "nbformat": 4,
 "nbformat_minor": 5
}
